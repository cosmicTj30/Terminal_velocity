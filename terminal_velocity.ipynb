{
 "cells": [
  {
   "cell_type": "markdown",
   "metadata": {},
   "source": [
    "Ce cahier a pour but de permettre une étude pas à pas de la vitesse terminale de chute d'une particule données plongée dans un contre-courant circulant dans un espace annulaire d'entrefer 30mm. Les dimensions et débits choisis sont pris de façon à reproduire une partie des phénomènes qui ont lieu dans l'anneau liquide d'une centrifugeuse.\n",
    "\n",
    "Au delà de la vitesse terminale de chute et de l'entrainement des particules, l'intérêt de ce travail est d'apporter des éléments de réponse quant au lien entre débit d'alimentation et fuite de particules. \n",
    "\n",
    "Pendant longtemps, il a été supposé que la vitesse axiale produite par le débit d'alimentation était la principale raison pour laquelle les particules arrivent à quitter le bol. Ce travail va approter un éclairage sur le rôle que joue ce débit dans l'apparition de fuites."
   ]
  },
  {
   "cell_type": "code",
   "execution_count": 2,
   "metadata": {},
   "outputs": [],
   "source": [
    "# -*- coding: utf-8 -*-\n",
    "\n",
    "import numpy as np\n",
    "import matplotlib.pyplot as plt"
   ]
  },
  {
   "cell_type": "markdown",
   "metadata": {},
   "source": [
    "# Vitesse terminale et diamètre limite sans centrifugation"
   ]
  },
  {
   "cell_type": "markdown",
   "metadata": {},
   "source": [
    "Le calcul de la vitesse terminale de chute d'une particule en présence d'un contre courant ascendant ne peut se faire que de façon itérative dans la mesure où il est nécessaire de connaître cette même vitesse terminale pour évaluer le Reynolds particulaire et donc le régime d'écoulement. Le Reynolds particulaire noté $Re_p$ est donné par :\n",
    "\n",
    "$$\n",
    "\\begin{align}\n",
    "\\large{Re_{p}=\\frac{\\rho_{l}\\lvert V_{l} - V_{t} \\rvert d}{\\mu}}\n",
    "\\end{align}\n",
    "$$\n",
    "\n",
    "$\\rho_{l}$ est la masse volumique du liquide.\n",
    "\n",
    "$V_{l}$ est la vitesse du liquide.\n",
    "\n",
    "$V_{t}$ est la vitesse terminale de la particule.\n",
    "\n",
    "$d$ est le diamètre de la particule.\n",
    "\n",
    "$\\mu$ est la viscosité du fluide.\n",
    "\n",
    "Comme on peut le constater, il est nécessaire de $V_t$ pour calculer $Re_p$ et vice-versa puisque $Re_p$ est nécessaire pour choisir le coefficient de trainée à utiliser pour le calcul de la vitesse terminale de chute.\n",
    "\n",
    "Ce qui nous intéresse ici c'est de savoir si la particule va êstre entrainée par le contre-courant. La réponse à cette question dépend de l'inégalité suivante:\n",
    "\n",
    "$$\n",
    "\\begin{align}\n",
    "\\large{V_{l} > V_{t}}\n",
    "\\end{align}\n",
    "$$\n",
    "\n",
    "Selon le régime d'écoulement considéré, il existe trois façon différentes de calculer la vitesse terminale de chute d'une particule.\n",
    "\n",
    "En laminaire, quand $Re_{p} < 2$:\n",
    "\n",
    "$$\n",
    "\\begin{align}\n",
    "\\large{V_{t} = \\frac{2 \\times g \\times d^{2} \\times (\\rho_{p}-\\rho_{l})}{9.\\mu}}\n",
    "\\end{align}\n",
    "$$\n",
    "\n",
    "En régime transitoire, quand $2 < Re_{p} < 500$ :\n",
    "\n",
    "$$\n",
    "\\begin{align}\n",
    "\\large{V_{t} = \\frac{3,54 \\times g^{0,71} d^{1,14} (\\rho_{p}-\\rho_{l})^{0,71}}{\\rho_{l}^{0,29}\\mu^{0,43}}}\n",
    "\\end{align}\n",
    "$$\n",
    "\n",
    "Enfin en régime turbulent, aussi appelé régime de Newton, lorsque $500 < Re_{p}$:\n",
    "\n",
    "$$\n",
    "\\begin{align}\n",
    "\\large{V_{t} = 1,74 \\sqrt{\\frac{g \\times d \\times (\\rho_{p}-\\rho_{l})}{\\rho_{l}}}}\n",
    "\\end{align}\n",
    "$$\n",
    "\n",
    "Supposons maintenant que le fluide soit de l'eau ($\\rho_{l}=1000Kg/m^{3}$ et $\\mu=0.001Pa.s$). Et disons que cette eau circule dans un espace annulaire d'entrefer $30mm$ à un débit de $21L/h$. La vitesse de circulation du liquide est alors donnée par:\n",
    "\n",
    "$$\n",
    "\\begin{align}\n",
    "\\large{V_{l} = \\frac{Q}{S}}\n",
    "\\end{align}\n",
    "$$\n",
    "\n",
    "$Q$ est le débit de $21L/h$, soit $\\large{Q = \\frac{21 \\times 10^{-3}}{3600} = 5.833333333333334 \\times 10^{-6} m^{3}/s}$"
   ]
  },
  {
   "cell_type": "code",
   "execution_count": 3,
   "metadata": {},
   "outputs": [
    {
     "name": "stdout",
     "output_type": "stream",
     "text": [
      "5.833333333333334e-06\n"
     ]
    }
   ],
   "source": [
    "Q = 21e-03/3600\n",
    "print(Q)"
   ]
  },
  {
   "cell_type": "markdown",
   "metadata": {},
   "source": [
    "La surface S est la section de l'entrefer annulaire.\n",
    "\n",
    "$$\n",
    "\\begin{align}\n",
    "\\large{S = \\pi.R_{ext}^{2} - \\pi.R_{int}^{2} = 0.016022122533307946 m^{2}}\n",
    "\\end{align}\n",
    "$$"
   ]
  },
  {
   "cell_type": "code",
   "execution_count": 4,
   "metadata": {},
   "outputs": [
    {
     "name": "stdout",
     "output_type": "stream",
     "text": [
      "0.016022122533307946\n"
     ]
    }
   ],
   "source": [
    "S = (np.pi * 0.1**2) - (np.pi * 0.07**2)\n",
    "print(S)"
   ]
  },
  {
   "cell_type": "markdown",
   "metadata": {},
   "source": [
    "Finalement la vitesse de circulation vaut :"
   ]
  },
  {
   "cell_type": "code",
   "execution_count": 5,
   "metadata": {
    "scrolled": true
   },
   "outputs": [
    {
     "name": "stdout",
     "output_type": "stream",
     "text": [
      "0.0003640799351775384\n"
     ]
    }
   ],
   "source": [
    "V_l = Q / S\n",
    "print(V_l)"
   ]
  },
  {
   "cell_type": "code",
   "execution_count": 6,
   "metadata": {},
   "outputs": [],
   "source": [
    "# Fixons au préalable la valeurs des constantes physiques \n",
    "\n",
    "d = 3e-07\n",
    "rho_p = 4300\n",
    "rho_l = 1000\n",
    "mu = 0.001"
   ]
  },
  {
   "cell_type": "markdown",
   "metadata": {},
   "source": [
    "En décidant d'appliquer les formules de calcul de la vitesse terminale sans connaître à priori le régime d'écoulement on obtient les vitesses suivantes:"
   ]
  },
  {
   "cell_type": "code",
   "execution_count": 7,
   "metadata": {
    "scrolled": true
   },
   "outputs": [
    {
     "name": "stdout",
     "output_type": "stream",
     "text": [
      "6.474599999999999e-07\n"
     ]
    }
   ],
   "source": [
    "V_t_lam = (2 * 9.81 * d**2 * (rho_p - rho_l))/(9 * mu)\n",
    "print(V_t_lam)"
   ]
  },
  {
   "cell_type": "code",
   "execution_count": 8,
   "metadata": {},
   "outputs": [
    {
     "name": "stdout",
     "output_type": "stream",
     "text": [
      "0.0005434397289355542\n"
     ]
    }
   ],
   "source": [
    "V_t_trans = (3.54 * 9.81**0.71 * d**1.14 * (rho_p - rho_l)**0.71) / (rho_l**0.29 * mu**0.43)\n",
    "print(V_t_trans)"
   ]
  },
  {
   "cell_type": "code",
   "execution_count": 9,
   "metadata": {},
   "outputs": [
    {
     "name": "stdout",
     "output_type": "stream",
     "text": [
      "0.005422522331904222\n"
     ]
    }
   ],
   "source": [
    "V_t_turb = 1.74 * np.sqrt((9.81 * d * (rho_p - rho_l)) /(rho_l))\n",
    "print(V_t_turb)"
   ]
  },
  {
   "cell_type": "markdown",
   "metadata": {},
   "source": [
    "Reste ensuite à calculant les Reynolds particulaires à partir de ces vitesses pour voir lequel est cohérent avec la théorie."
   ]
  },
  {
   "cell_type": "code",
   "execution_count": 10,
   "metadata": {},
   "outputs": [
    {
     "name": "stdout",
     "output_type": "stream",
     "text": [
      "0.00010902974255326152\n"
     ]
    }
   ],
   "source": [
    "Re_lam = (rho_l * abs(V_l - V_t_lam) * d) / (mu)\n",
    "print(Re_lam)"
   ]
  },
  {
   "cell_type": "markdown",
   "metadata": {},
   "source": [
    "Le Reynolds respecte bien la condition selon laquelle $\\large{Re_{p}<2}$. Le régime est très vraisemblablement laminaire. Et donc la relation à utiliser pour le calcul de la vitesse terminale de chute est la formule pour le régime laminaire. \n",
    "\n",
    "Vérifions néanmoins que l'utilisation des 2 autres formules conduit à des incohérences."
   ]
  },
  {
   "cell_type": "code",
   "execution_count": 11,
   "metadata": {},
   "outputs": [
    {
     "name": "stdout",
     "output_type": "stream",
     "text": [
      "5.380793812740475e-05\n"
     ]
    }
   ],
   "source": [
    "Re_trans = (rho_l * abs(V_l - V_t_trans) * d) / (mu)\n",
    "print(Re_trans)"
   ]
  },
  {
   "cell_type": "markdown",
   "metadata": {},
   "source": [
    "Ici $Re_{p}<2$ au lieu d'être supérieur à 2. Voici la première incohérence attendue. Nous ne sommes pas en régime intermédiaire. Faisons aussi la vérifcation pour le régime turbulent."
   ]
  },
  {
   "cell_type": "code",
   "execution_count": 12,
   "metadata": {},
   "outputs": [
    {
     "name": "stdout",
     "output_type": "stream",
     "text": [
      "0.001517532719018005\n"
     ]
    }
   ],
   "source": [
    "Re_turb = (rho_l * abs(V_l - V_t_turb) * d) / (mu)\n",
    "print(Re_turb)"
   ]
  },
  {
   "cell_type": "markdown",
   "metadata": {},
   "source": [
    "Voici la seconde incohérence. Le nombre de Reynolds particulaire n'est pas supérieur à 500 donc nous ne sommes pas non plus en régime turbulent."
   ]
  },
  {
   "cell_type": "markdown",
   "metadata": {},
   "source": [
    "Maintenant que l'on sait précisément quelle est la vitesse terminale de chute, il est aussi possible de dire si la particule va être entrainée ou non.\n",
    "\n",
    "Dans ce cas précis $V_t<<V_l$ donc la particule est entrainée."
   ]
  },
  {
   "cell_type": "markdown",
   "metadata": {},
   "source": [
    "Faisons maintenant le raisonnement dans l'autre sens. Partons de la vitesse de circulation dans l'espace annulaire pour déterminer quelle est la plus grosse particule qui peut être entrainée.\n",
    "\n",
    "Nous savons que nous sommes en régime laminaire. Une particule est entrainée lorsque sa vitesse terminale est inférieure à la vitesse du liquide, soit:\n",
    "\n",
    "$$\n",
    "\\begin{align}\n",
    "\\large{\\frac{2 \\times g \\times d^{2} \\times (\\rho_{p}-\\rho_{l})}{9.\\mu} < V_{l}}\n",
    "\\end{align}\n",
    "$$\n",
    "\n",
    "L'idée est d'avoir une information sur le diamètre max qui puisse être entraîné. On isole d et on obtient:\n",
    "\n",
    "$$\n",
    "\\begin{align}\n",
    "\\large{d < \\sqrt{\\frac{9 . \\mu . V_{l}}{2 . g  . (\\rho_{p}-\\rho_{l})}}}\n",
    "\\end{align}\n",
    "$$"
   ]
  },
  {
   "cell_type": "code",
   "execution_count": 13,
   "metadata": {},
   "outputs": [
    {
     "name": "stdout",
     "output_type": "stream",
     "text": [
      "7.113988451632129e-06\n"
     ]
    }
   ],
   "source": [
    "d_lim = np.sqrt((9 * mu * V_l)/(2 * 9.81 * (rho_p - rho_l)))\n",
    "print(d_lim)"
   ]
  },
  {
   "cell_type": "markdown",
   "metadata": {},
   "source": [
    "# Evaluation du diamètre limite en tenant compte de la centrifugation"
   ]
  },
  {
   "cell_type": "markdown",
   "metadata": {},
   "source": [
    "Le résultat nous indique que dans le cas d'un simple contre-courant dont le débit est fixé à $21L/h$, des particules allant jusqu'à $7,46 \\mu m$ peuvent être entraînées par le liquide.\n",
    "\n",
    "Ce diamètre limite devrait néanmoins être plus petit si un phénomène de décantation centrifuge devait se superposer à ce simple contre courant.\n",
    "\n",
    "Voyons maintenant comment cela peut-être pris en compte. Lorsqu'une particule se retrouve dans un anneau liquide de centrifugeuse, au contre-courant précédent s'ajoute un mouvement de rotation du fluide qui a pour conséquence le déplacement radial de la particule. En supposant que cette dernière soit entrainée à la fois en rotation et vers le haut, 2 composantes de vitesse sont à prendre en compte pour étudier son mouvement:\n",
    "\n",
    "   - Une composante radiale $U_r$ conséquence de la centrifugation\n",
    "   - et une composante axiale $U_z$ conséquence du contre-courant\n",
    "   \n",
    "$U_z$ est donné par la vitesse $V_l$ calculée précédemment. Pour rappel donc:\n",
    "\n",
    "$$\n",
    "\\begin{align}\n",
    "\\large{U_{z} = \\frac{Q}{S} = \\frac{Q}{\\pi(R_{out}^{2} - R_{int}^{2})}}\n",
    "\\end{align}\n",
    "$$\n",
    "\n",
    "$U_r$ est une variante de la vitesse terminale de chute. On suppose que la vitesse de décantation à 2000g s'exprime de la même façon que la vitesse terminale de chute (à 1g)...à l'accélération près. Ainsi, :\n",
    "\n",
    "$$\n",
    "\\begin{align}\n",
    "\\large{U_{r} = \\frac{2 \\times r\\omega^{2} \\times d^{2} \\times (\\rho_{p}-\\rho_{l})}{9.\\mu}}\n",
    "\\end{align}\n",
    "$$\n",
    "\n",
    "Le but maintenant est de coupler les 2 vitesses pour essayer d'obtenir une équation de la trajectoire de la particule. Les deux équations de vitesse précédentes peuvent être déclinées en équations horaires, c'est à dire une équation qui donne la position au cours du temps.\n",
    "\n",
    "$$\n",
    "\\begin{align}\n",
    "\\large{U_{z} = \\frac{dz}{dt} = \\frac{Q}{\\pi(R_{out}^{2} - R_{int}^{2})} = constante}\n",
    "\\end{align}\n",
    "$$\n",
    "\n",
    "Et donc :\n",
    "\n",
    "$$\n",
    "\\begin{align}\n",
    "\\large{z(t) = constante \\times t + z_{0}}\n",
    "\\end{align}\n",
    "$$\n",
    "\n",
    "De même avec la vitesse radiale:\n",
    "\n",
    "$$\n",
    "\\begin{align}\n",
    "\\large{U_{r} = \\frac{dr}{dt} = \\frac{2 \\times r\\omega^{2} \\times d^{2} \\times (\\rho_{p}-\\rho_{l})}{9.\\mu}}\n",
    "\\end{align}\n",
    "$$\n",
    "\n",
    "L'astice pour aboutir à une équation de la trajectoire c'est d'obtenir une expression du temps t à partir de l'une des équations horaires et de l'injecter dans l'autre équation horaire. Dans notre cas, comme on est plus intéressé par la position axiale (sortie éventuelle de la particule) que par sa position radiale, essayons d'extraire le temps t de l'équation de $U_r$. L'équation précédente implique :\n",
    "\n",
    "$$\n",
    "\\begin{align}\n",
    "\\large{\\frac{dr}{r} = \\frac{2 \\times \\omega^{2} \\times d^{2} \\times (\\rho_{p}-\\rho_{l})}{9.\\mu} dt}\n",
    "\\end{align}\n",
    "$$\n",
    "\n",
    "A partir de là une intégration des 2 côtés donne :\n",
    "\n",
    "$$\n",
    "\\begin{align}\n",
    "\\large{ln(\\frac{R_{out}}{r}) = \\frac{2 \\times \\omega^{2} \\times d^{2} \\times (\\rho_{p}-\\rho_{l})}{9.\\mu} t}\n",
    "\\end{align}\n",
    "$$\n",
    "\n",
    "Ce qui nous permet d'extraire t et d'en injecter l'expression dans l'equation horaire de z.\n",
    "\n",
    "$$\n",
    "\\begin{align}\n",
    "\\large{t = \\frac{9.\\mu}{2 \\times \\omega^{2} \\times d^{2} \\times (\\rho_{p}-\\rho_{l})} ln(\\frac{R_{out}}{r})}\n",
    "\\end{align}\n",
    "$$\n",
    "\n",
    "$$\n",
    "\\begin{align}\n",
    "\\large{z(r) = \\frac{Q}{S} \\frac{9.\\mu}{2 \\times \\omega^{2} \\times d^{2} \\times (\\rho_{p}-\\rho_{l})} ln(\\frac{R_{out}}{r})}\n",
    "\\end{align}\n",
    "$$\n",
    "\n",
    "On s'intéresse aux particules qui parviennes à sortir du bol. C'est à dire aux particules dont le $z$ est supérieur à la hauteur $H$ du bol:\n",
    "\n",
    "$$\n",
    "\\begin{align}\n",
    "\\large{\\frac{Q}{S} \\frac{9.\\mu}{2 \\times \\omega^{2} \\times d^{2} \\times (\\rho_{p}-\\rho_{l})} ln(\\frac{R_{out}}{r}) > H}\n",
    "\\end{align}\n",
    "$$\n",
    "\n",
    "En isolant d, on obtient alors une expression du $d_{lim}$ au delà duquel aucune particule ne sort :\n",
    "\n",
    "$$\n",
    "\\begin{align}\n",
    "\\large{d < \\sqrt{\\frac{Q}{S} \\frac{9.\\mu}{2 \\times \\omega^{2} \\times H \\times (\\rho_{p}-\\rho_{l})} ln(\\frac{R_{out}}{r})}}\n",
    "\\end{align}\n",
    "$$\n",
    "\n",
    "En prenant une hauteur de bol de l'ordre de 20com, l'application numérique pour des particules de densité $4,3$ dans l'eau donnerait un diamètre limite de :\n"
   ]
  },
  {
   "cell_type": "code",
   "execution_count": 15,
   "metadata": {},
   "outputs": [
    {
     "name": "stdout",
     "output_type": "stream",
     "text": [
      "1.3435364604587234e-07\n"
     ]
    }
   ],
   "source": [
    "H = 0.2\n",
    "omega = np.sqrt(2000*9.81/0.1)\n",
    "\n",
    "d_limite = np.sqrt((Q * 18 * mu * np.log(0.1/0.07))/(S * 1 * omega**2.0 * H * (rho_p - rho_l)))\n",
    "\n",
    "print(d_limite)"
   ]
  },
  {
   "cell_type": "markdown",
   "metadata": {},
   "source": [
    "En regardant la figure ci-dessous qui donne un aperçu des g(x), on constate qu'en réalité des particules bien plus grandes sont perdues (ici aux environ de $0,3\\mu m$). Ceci peut s'expliquer par le fait qu'il exite dans l'anneau liquide des vitesses bien  plus importantes que la valeur de $U_z$ qui a été utilisée dans ce raisonnement."
   ]
  },
  {
   "cell_type": "markdown",
   "metadata": {},
   "source": [
    "![](gx_2000_21Lh.png)"
   ]
  },
  {
   "cell_type": "markdown",
   "metadata": {},
   "source": [
    "# Quelle vitesse pour faire sortir des particules jusqu'à $0,3\\mu m$?"
   ]
  },
  {
   "cell_type": "markdown",
   "metadata": {},
   "source": [
    "Utilisons la relation permettant d'obtenir le $d_lim$ avec centrifugation pour tenter de retrouver quel niveau de vitesse permet d'entrainer des particules allant jusqu'à $0,3\\mu m$. Au lieu d'avoir d comme inconnue, cette fois-ci c'est $Q$ qui est recherché. Ainsi:\n",
    "\n",
    "$$\n",
    "\\begin{align}\n",
    "\\large{Q = \\frac{H \\times S \\times 2 \\omega^{2} d^{2}(\\rho_{p}-\\rho_{l})}{{9.\\mu.ln(\\frac{R_{out}}{R_{int}})}}}\n",
    "\\end{align}\n",
    "$$\n",
    "\n",
    "L'application numérique donne alors:"
   ]
  },
  {
   "cell_type": "code",
   "execution_count": 19,
   "metadata": {},
   "outputs": [
    {
     "name": "stdout",
     "output_type": "stream",
     "text": [
      "104.70390778532227 L/h\n"
     ]
    }
   ],
   "source": [
    "Q_requis = (H * S * omega**2.0 * d**2.0 * (rho_p - rho_l))/(18 * mu * np.log(0.1/0.07))\n",
    "print(Q_requis * 1e03 * 3600,\"L/h\")"
   ]
  },
  {
   "cell_type": "markdown",
   "metadata": {},
   "source": [
    "Ramené à une vitesse cela représente, dans la section de l'anneau liquide:"
   ]
  },
  {
   "cell_type": "code",
   "execution_count": 21,
   "metadata": {},
   "outputs": [
    {
     "name": "stdout",
     "output_type": "stream",
     "text": [
      "0.0018152662837769085 m/s\n"
     ]
    }
   ],
   "source": [
    "vitesse_requise = Q_requis/S\n",
    "print(vitesse_requise,\"m/s\")"
   ]
  },
  {
   "cell_type": "markdown",
   "metadata": {},
   "source": [
    "Ce sursaut de vitesse ne peut être raisonnablement atteint par de simple fluctuations de vitesse dues à la turbulence. Ce constat nous permet de mettre sérieusement en doute l'hypothèse selon laquelle ledébit d'alimentation traverse l'anneau liquide dans toute sa section...\n",
    "\n",
    "Romani dans sa publication indiquait que l'essentiel de la vitesse axiale était localisée dans une très fine couche à la frontière de l'anneau liquide. Cette piste nous permettrait d'améliorer le modèle génie chimique..."
   ]
  }
 ],
 "metadata": {
  "kernelspec": {
   "display_name": "Python 3",
   "language": "python",
   "name": "python3"
  },
  "language_info": {
   "codemirror_mode": {
    "name": "ipython",
    "version": 3
   },
   "file_extension": ".py",
   "mimetype": "text/x-python",
   "name": "python",
   "nbconvert_exporter": "python",
   "pygments_lexer": "ipython3",
   "version": "3.7.6"
  }
 },
 "nbformat": 4,
 "nbformat_minor": 4
}
