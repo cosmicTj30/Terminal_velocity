{
 "cells": [
  {
   "cell_type": "code",
   "execution_count": 16,
   "metadata": {},
   "outputs": [],
   "source": [
    "# -*- coding: utf-8 -*-\n",
    "\n",
    "import numpy as np\n",
    "import matplotlib.pyplot as plt"
   ]
  },
  {
   "cell_type": "markdown",
   "metadata": {},
   "source": [
    "Le calcul de la vitesse terminale de chute d'une particule en présence d'un contre courant ascendant ne peut se faire que de façon itérative dans la mesure où il est nécessaire de connaître cette même vitesse terminale pour évaluer le Reynolds particulaire et donc le régime d'écoulement. Le Reynolds particulaire noté $Re_p$ est donné par :\n",
    "\n",
    "$\\large{Re_{p}=\\frac{\\rho_{l}\\lvert V_{l} - V_{t} \\rvert d}{\\mu}}$\n",
    "\n",
    "$\\rho_{l}$ est la masse volumique du liquide.\n",
    "\n",
    "$V_{l}$ est la vitesse du liquide.\n",
    "\n",
    "$V_{t}$ est la vitesse terminale de la particule.\n",
    "\n",
    "$d$ est le diamètre de la particule.\n",
    "\n",
    "$\\mu$ est la viscosité du fluide.\n",
    "\n",
    "Comme on peut le constater, il est nécessaire de $V_t$ pour calculer $Re_p$ et vice-versa puisque $Re_p$ est nécessaire pour choisir le coefficient de trainée à utiliser pour le calcul de la vitesse terminale de chute.\n",
    "\n",
    "Ce qui nous intéresse ici c'est de savoir si la particule va êstre entrainée par le contre-courant. La réponse à cette question dépend de l'inégalité suivante:\n",
    "\n",
    "$V_{l} > V_{t}$\n",
    "\n",
    "Selon le régime d'écoulement considéré, il existe trois façon différentes de calculer la vitesse terminale de chute d'une particule.\n",
    "\n",
    "En laminaire, quand $Re_{p} < 2$:\n",
    "\n",
    "$\\large{V_{t} = \\frac{1000 \\times g \\times d^{2} \\times (\\rho_{p}-\\rho_{l})}{18.\\mu}}$\n",
    "\n",
    "En régime transitoire, quand $2 < Re_{p} < 500$ :\n",
    "\n",
    "$\\large{V_{t} = \\frac{3,54 \\times g^{0,71} d^{1,14} (\\rho_{p}-\\rho_{l})^{0,71}}{\\rho_{l}^{0,29}\\mu^{0,43}}}$\n",
    "\n",
    "Enfin en régime turbulent, aussi appelé régime de Newton, lorsque $500 < Re_{p}$:\n",
    "\n",
    "$\\large{V_{t} = 1,74 \\sqrt{\\frac{g \\times d \\times (\\rho_{p}-\\rho_{l})}{\\rho_{l}}}}$\n",
    "\n",
    "Supposons maintenant que le fluide soit de l'eau ($\\rho_{l}=1000Kg/m^{3}$ et $\\mu=0.001Pa.s$). Et disons que cette eau circule dans un espace annulaire d'entrefer $30mm$ à un débit de $21L/h$. La vitesse de circulation du liquide est alors donnée par:\n",
    "\n",
    "$\\large{V_{l} = \\frac{Q}{S}}$\n",
    "\n",
    "$Q$ est le débit de $21L/h$, soit $\\large{Q = \\frac{21 \\times 10^{-3}}{3600} = 5.833333333333334 \\times 10^{-6} m^{3}/s}$"
   ]
  },
  {
   "cell_type": "code",
   "execution_count": 17,
   "metadata": {},
   "outputs": [
    {
     "name": "stdout",
     "output_type": "stream",
     "text": [
      "5.833333333333334e-06\n"
     ]
    }
   ],
   "source": [
    "Q = 21e-03/3600\n",
    "print(Q)"
   ]
  },
  {
   "cell_type": "markdown",
   "metadata": {},
   "source": [
    "La surface S est la section de l'entrefer annulaire.\n",
    "\n",
    "$\\large{S = \\pi.R_{ext}^{2} - \\pi.R_{int}^{2} = 0.016022122533307946 m^{2}}$"
   ]
  },
  {
   "cell_type": "code",
   "execution_count": 18,
   "metadata": {},
   "outputs": [
    {
     "name": "stdout",
     "output_type": "stream",
     "text": [
      "0.016022122533307946\n"
     ]
    }
   ],
   "source": [
    "S = (np.pi * 0.1**2) - (np.pi * 0.07**2)\n",
    "print(S)"
   ]
  },
  {
   "cell_type": "markdown",
   "metadata": {},
   "source": [
    "Finalement la vitesse de circulation vaut :"
   ]
  },
  {
   "cell_type": "code",
   "execution_count": 19,
   "metadata": {
    "scrolled": true
   },
   "outputs": [
    {
     "name": "stdout",
     "output_type": "stream",
     "text": [
      "0.0003640799351775384\n"
     ]
    }
   ],
   "source": [
    "V_l = Q / S\n",
    "print(V_l)"
   ]
  },
  {
   "cell_type": "code",
   "execution_count": 28,
   "metadata": {},
   "outputs": [],
   "source": [
    "# Fixons au préalable la valeurs des constantes physiques \n",
    "\n",
    "d = 3e-07\n",
    "rho_p = 4000\n",
    "rho_l = 1000\n",
    "mu = 0.001"
   ]
  },
  {
   "cell_type": "markdown",
   "metadata": {},
   "source": [
    "En décidant d'appliquer les formules de calcul de la vitesse terminale sans connaître à priori le régime d'écoulement on obtient les vitesses suivantes:"
   ]
  },
  {
   "cell_type": "code",
   "execution_count": 29,
   "metadata": {
    "scrolled": true
   },
   "outputs": [
    {
     "name": "stdout",
     "output_type": "stream",
     "text": [
      "0.00014714999999999997\n"
     ]
    }
   ],
   "source": [
    "V_t_lam = (1000 * 9.81 * d**2 * (rho_p - rho_l))/(18 * mu)\n",
    "print(V_t_lam)"
   ]
  },
  {
   "cell_type": "code",
   "execution_count": 22,
   "metadata": {},
   "outputs": [
    {
     "name": "stdout",
     "output_type": "stream",
     "text": [
      "0.00014515912715578247\n"
     ]
    }
   ],
   "source": [
    "V_t_trans = (3.54 * 9.81**0.71 * d**1.14 * (rho_p - rho_l)**0.71) / (rho_l**0.29 * mu**0.43)\n",
    "print(V_t_trans)"
   ]
  },
  {
   "cell_type": "code",
   "execution_count": 23,
   "metadata": {},
   "outputs": [
    {
     "name": "stdout",
     "output_type": "stream",
     "text": [
      "0.0029850003015075223\n"
     ]
    }
   ],
   "source": [
    "V_t_turb = 1.74 * np.sqrt((9.81 * d * (rho_p - rho_l)) /(rho_l))\n",
    "print(V_t_turb)"
   ]
  },
  {
   "cell_type": "markdown",
   "metadata": {},
   "source": [
    "Reste ensuite à calculant les Reynolds particulaires à partir de ces vitesses pour voir lequel est cohérent avec la théorie."
   ]
  },
  {
   "cell_type": "code",
   "execution_count": 30,
   "metadata": {},
   "outputs": [
    {
     "name": "stdout",
     "output_type": "stream",
     "text": [
      "6.507898055326151e-05\n"
     ]
    }
   ],
   "source": [
    "Re_lam = (rho_l * abs(V_l - V_t_lam) * d) / (mu)\n",
    "print(Re_lam)"
   ]
  },
  {
   "cell_type": "markdown",
   "metadata": {},
   "source": [
    "Le Reynolds respecte bien la condition selon laquelle $\\large{Re_{p}<2}$. Le régime est très vraisemblablement laminaire. Et donc la relation à utiliser pour le calcul de la vitesse terminale de chute est la formule pour le régime laminaire. \n",
    "\n",
    "Vérifions néanmoins que l'utilisation des 2 autres formules conduit à des incohérences."
   ]
  },
  {
   "cell_type": "code",
   "execution_count": 25,
   "metadata": {},
   "outputs": [
    {
     "name": "stdout",
     "output_type": "stream",
     "text": [
      "2.1892080802175592e-05\n"
     ]
    }
   ],
   "source": [
    "Re_trans = (rho_l * abs(V_l - V_t_trans) * d) / (mu)\n",
    "print(Re_trans)"
   ]
  },
  {
   "cell_type": "markdown",
   "metadata": {},
   "source": [
    "Ici $Re_{p}<2$ au lieu d'être supérieur à 2. Voici la première incohérence attendue. Nous ne sommes pas en régime intermédiaire. Faisons aussi la vérifcation pour le régime turbulent."
   ]
  },
  {
   "cell_type": "code",
   "execution_count": 26,
   "metadata": {},
   "outputs": [
    {
     "name": "stdout",
     "output_type": "stream",
     "text": [
      "0.0002620920366329983\n"
     ]
    }
   ],
   "source": [
    "Re_turb = (rho_l * abs(V_l - V_t_turb) * d) / (mu)\n",
    "print(Re_turb)"
   ]
  },
  {
   "cell_type": "markdown",
   "metadata": {},
   "source": [
    "Voici la seconde incohérence. Le nombre de Reynolds particulaire n'est pas supérieur à 500 donc nous ne sommes pas non plus en régime turbulent."
   ]
  },
  {
   "cell_type": "markdown",
   "metadata": {},
   "source": [
    "Maintenant que l'on sait précisément quelle est la vitesse terminale de chute, il est aussi possible de dire si la particule va être entrainée ou non.\n",
    "\n",
    "Dans ce cas précis $V_t<<V_l$ donc la particule est entrainée."
   ]
  },
  {
   "cell_type": "markdown",
   "metadata": {},
   "source": [
    "Faisons maintenant le raisonnement dans l'autre sens. Partons de la vitesse de circulation dans l'espace annulaire pour déterminer quelle est la plus grosse particule qui peut être entrainée.\n",
    "\n",
    "Nous savons que nous sommes en régime laminaire. Une particule est entrainée lorsque sa vitesse terminale est inférieure à la vitesse du liquide, soit:\n",
    "\n",
    "$\\large{\\frac{1000 \\times g \\times d^{2} \\times (\\rho_{p}-\\rho_{l})}{18.\\mu} < V_{l}}$\n",
    "\n",
    "L'idée est d'avoir une information sur le diamètre max qui puisse être entraîné. On isole d et on obtient:\n",
    "\n",
    "$\\large{d < \\sqrt{\\frac{18 . \\mu . V_{l}}{1000 . g  . (\\rho_{p}-\\rho_{l})}}}$"
   ]
  },
  {
   "cell_type": "code",
   "execution_count": 27,
   "metadata": {},
   "outputs": [
    {
     "name": "stdout",
     "output_type": "stream",
     "text": [
      "4.7188860913970295e-07\n"
     ]
    }
   ],
   "source": [
    "d_lim = np.sqrt((18 * mu * V_l)/(1000 * 9.81 * (rho_p - rho_l)))\n",
    "print(d_lim)"
   ]
  },
  {
   "cell_type": "markdown",
   "metadata": {},
   "source": [
    "![](figure.pdf)"
   ]
  }
 ],
 "metadata": {
  "kernelspec": {
   "display_name": "Python 3",
   "language": "python",
   "name": "python3"
  },
  "language_info": {
   "codemirror_mode": {
    "name": "ipython",
    "version": 3
   },
   "file_extension": ".py",
   "mimetype": "text/x-python",
   "name": "python",
   "nbconvert_exporter": "python",
   "pygments_lexer": "ipython3",
   "version": "3.7.6"
  }
 },
 "nbformat": 4,
 "nbformat_minor": 4
}
